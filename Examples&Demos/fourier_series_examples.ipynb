{
 "cells": [
  {
   "cell_type": "markdown",
   "metadata": {},
   "source": [
    "## Euler's rule\n",
    "\n",
    "The key equation to use to compute Fourier series involving finite sums of sines and consines is Euler's rule:\n",
    "\n",
    "$$\\text{e}^{j\\theta} = \\text{cos}(\\theta) + j\\text{sin}(\\theta)$$.\n",
    "\n",
    "From Euler's rule, it is not hard to see that \n",
    "\n",
    "$$ \\text{cos}(\\theta) = \\frac{\\text{e}^{j\\theta} + \\text{e}^{-j\\theta}}{2}$$\n",
    "\n",
    "$$ \\text{sin}(\\theta) = \\frac{\\text{e}^{j\\theta} - \\text{e}^{-j\\theta}}{2j}$$\n"
   ]
  },
  {
   "cell_type": "markdown",
   "metadata": {},
   "source": [
    "## Example 1\n",
    "\n",
    "\\begin{align}\n",
    "x[n]  & = 1 + \\text{sin}(\\frac{2\\pi}{N}n) + 3 \\text{cos}(\\frac{2\\pi}{N}n) + \\text{cos}(\\frac{4\\pi}{N}n + \\frac{\\pi}{2})\\\\\n",
    "    & = 1 + \\frac{\\text{e}^{j\\frac{2\\pi}{N}n} - \\text{e}^{-j\\frac{2\\pi}{N}n}}{2j} + \\frac{3\\text{e}^{j\\frac{2\\pi}{N}n} + 3\\text{e}^{-j\\frac{2\\pi}{N}n}}{2} +  \\frac{\\text{e}^{j\\frac{\\pi}{2}}\\cdot\\text{e}^{j2\\cdot\\frac{2\\pi}{N}n} + \\text{e}^{j\\frac{-\\pi}{2}}\\cdot\\text{e}^{-j2\\cdot\\frac{2\\pi}{N}n}}{2}) \\\\\n",
    "    & = 1 + (\\frac{3}{2} + \\frac{1}{2j})\\text{e}^{j\\frac{2\\pi}{N}n} + (\\frac{3}{2} - \\frac{1}{2j})\\text{e}^{-j\\frac{2\\pi}{N}n} + \\frac{j}{2} \\text{e}^{j2\\cdot\\frac{2\\pi}{N}n} - \\frac{j}{2} \\text{e}^{-j2\\cdot\\frac{2\\pi}{N}n}\n",
    "\\end{align}\n",
    "\n",
    "Therefore, $a_0 = 1, a_1 = (\\frac{3}{2} + \\frac{1}{2j}), a_{-1} = (\\frac{3}{2} - \\frac{1}{2j}), a_2 = \\frac{j}{2}, a_{-2} = -\\frac{j}{2}. $"
   ]
  },
  {
   "cell_type": "markdown",
   "metadata": {},
   "source": [
    "## Example 2"
   ]
  },
  {
   "cell_type": "markdown",
   "metadata": {},
   "source": [
    "\\begin{align}\n",
    "x[n]  & = 1 + \\text{sin}(\\frac{6\\pi}{5}n) + 3 \\text{cos}(\\frac{2\\pi}{5}n) + \\text{cos}(\\frac{4\\pi}{5}n + \\frac{\\pi}{2})\\\\\n",
    "    & = 1 + \\frac{\\text{e}^{j3\\cdot\\frac{2\\pi}{5}n} - \\text{e}^{-j3\\cdot\\frac{2\\pi}{5}n}}{2j} + \\frac{3\\text{e}^{j\\frac{2\\pi}{5}n} + 3\\text{e}^{-j\\frac{2\\pi}{5}n}}{2} +  \\frac{\\text{e}^{j\\frac{\\pi}{2}}\\cdot\\text{e}^{j2\\cdot\\frac{2\\pi}{5}n} + \\text{e}^{j\\frac{-\\pi}{2}}\\cdot\\text{e}^{-j2\\cdot\\frac{2\\pi}{5}n}}{2}) \\\\\n",
    "    & = 1 + \\frac{3}{2}\\text{e}^{j\\frac{2\\pi}{5}n} + \\frac{3}{2}\\text{e}^{-j\\frac{2\\pi}{5}n} + \\frac{j}{2} \\text{e}^{j2\\cdot\\frac{2\\pi}{5}n} - \\frac{j}{2} \\text{e}^{-j2\\cdot\\frac{2\\pi}{5}n} + \\frac{1}{2j}\\text{e}^{j3\\cdot\\frac{2\\pi}{5}n} - \\frac{1}{2j}\\text{e}^{-j3\\cdot\\frac{2\\pi}{5}n}\n",
    "\\end{align}\n",
    "\n",
    "Therefore, $a_0 = 1, a_1 = a_{-1} = \\frac{3}{2}, a_2 = \\frac{j}{2}, a_{-2} = -\\frac{j}{2}, a_3 = \\frac{1}{2j}, a_{-3} = -\\frac{1}{2j}.$"
   ]
  },
  {
   "cell_type": "code",
   "execution_count": null,
   "metadata": {
    "collapsed": true
   },
   "outputs": [],
   "source": []
  }
 ],
 "metadata": {
  "kernelspec": {
   "display_name": "Python 2",
   "language": "python",
   "name": "python2"
  },
  "language_info": {
   "codemirror_mode": {
    "name": "ipython",
    "version": 2
   },
   "file_extension": ".py",
   "mimetype": "text/x-python",
   "name": "python",
   "nbconvert_exporter": "python",
   "pygments_lexer": "ipython2",
   "version": "2.7.6"
  }
 },
 "nbformat": 4,
 "nbformat_minor": 0
}
